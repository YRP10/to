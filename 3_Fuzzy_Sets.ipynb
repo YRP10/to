{
 "cells": [
  {
   "cell_type": "code",
   "execution_count": 1,
   "id": "0203a8c2",
   "metadata": {},
   "outputs": [],
   "source": [
    "# Fuzzy Sets (as simple dictionaries with elements and their membership values)\n",
    "A = {'x': 0.6, 'y': 0.8}\n",
    "B = {'x': 0.4, 'y': 0.5}"
   ]
  },
  {
   "cell_type": "code",
   "execution_count": 2,
   "id": "925b3d4a",
   "metadata": {},
   "outputs": [
    {
     "name": "stdout",
     "output_type": "stream",
     "text": [
      "Union of A and B: {'x': 0.6, 'y': 0.8}\n"
     ]
    }
   ],
   "source": [
    "# 1. Union of two fuzzy sets (max value for each element)\n",
    "union = {}\n",
    "for key in A:\n",
    "    union[key] = max(A[key], B[key])\n",
    "\n",
    "print(\"Union of A and B:\", union)"
   ]
  },
  {
   "cell_type": "code",
   "execution_count": 4,
   "id": "0fdba2dc",
   "metadata": {},
   "outputs": [
    {
     "name": "stdout",
     "output_type": "stream",
     "text": [
      "Intersection of A and B: {'x': 0.4, 'y': 0.5}\n"
     ]
    }
   ],
   "source": [
    "# 2. Intersection of two fuzzy sets (min value for each element)\n",
    "intersection = {}\n",
    "for key in A:\n",
    "    intersection[key] = min(A[key], B[key])\n",
    "    \n",
    "print(\"Intersection of A and B:\", intersection)"
   ]
  },
  {
   "cell_type": "code",
   "execution_count": 5,
   "id": "79ae41a8",
   "metadata": {},
   "outputs": [
    {
     "name": "stdout",
     "output_type": "stream",
     "text": [
      "Complement of A: {'x': 0.4, 'y': 0.19999999999999996}\n"
     ]
    }
   ],
   "source": [
    "# 3. Complement of a fuzzy set (1 - value for each element)\n",
    "complement_A = {}\n",
    "for key in A:\n",
    "    complement_A[key] = 1 - A[key]\n",
    "\n",
    "print(\"Complement of A:\", complement_A)"
   ]
  },
  {
   "cell_type": "code",
   "execution_count": 6,
   "id": "2c874f68",
   "metadata": {},
   "outputs": [
    {
     "name": "stdout",
     "output_type": "stream",
     "text": [
      "Difference of A and B: {'x': 0.6, 'y': 0.5}\n"
     ]
    }
   ],
   "source": [
    "# 4. Difference of two fuzzy sets (min of A and (1 - B) for each element)\n",
    "difference = {}\n",
    "for key in A:\n",
    "    difference[key] = min(A[key], 1 - B[key])\n",
    "\n",
    "print(\"Difference of A and B:\", difference)"
   ]
  },
  {
   "cell_type": "code",
   "execution_count": 7,
   "id": "3ead7a59",
   "metadata": {},
   "outputs": [
    {
     "name": "stdout",
     "output_type": "stream",
     "text": [
      "Cartesian Product of A and B (R1): {('x', 'x'): 0.4, ('x', 'y'): 0.5, ('y', 'x'): 0.4, ('y', 'y'): 0.5}\n"
     ]
    }
   ],
   "source": [
    "# --- Fuzzy Relations ---\n",
    "\n",
    "# 5. Cartesian product of fuzzy sets A and B (combining each pair of elements from A and B)\n",
    "R1 = {}\n",
    "for a in A:\n",
    "    for b in B:\n",
    "        R1[(a, b)] = min(A[a], B[b])\n",
    "\n",
    "print(\"Cartesian Product of A and B (R1):\", R1)"
   ]
  },
  {
   "cell_type": "code",
   "execution_count": 8,
   "id": "a9a2f84c",
   "metadata": {},
   "outputs": [
    {
     "name": "stdout",
     "output_type": "stream",
     "text": [
      "Cartesian Product of B and A (R2): {('x', 'x'): 0.4, ('x', 'y'): 0.4, ('y', 'x'): 0.5, ('y', 'y'): 0.5}\n"
     ]
    }
   ],
   "source": [
    "# 6. Max-Min composition of two fuzzy relations (R1 and R2)\n",
    "# Creating another fuzzy relation R2 from B and A\n",
    "R2 = {}\n",
    "for b in B:\n",
    "    for a in A:\n",
    "        R2[(b, a)] = min(B[b], A[a])\n",
    "\n",
    "print(\"Cartesian Product of B and A (R2):\", R2)"
   ]
  },
  {
   "cell_type": "code",
   "execution_count": 9,
   "id": "fc8eb534",
   "metadata": {},
   "outputs": [
    {
     "name": "stdout",
     "output_type": "stream",
     "text": [
      "Max-Min Composition of R1 and R2: {('x', 'x'): 0.5, ('x', 'y'): 0.5, ('y', 'x'): 0.5, ('y', 'y'): 0.5}\n"
     ]
    }
   ],
   "source": [
    "# Max-Min composition: combining R1 and R2\n",
    "composition = {}\n",
    "for (a, b) in R1:\n",
    "    for (b2, c) in R2:\n",
    "        if b == b2:  # Matching common element (b)\n",
    "            key = (a, c)\n",
    "            composition[key] = max(composition.get(key, 0), min(R1[(a, b)], R2[(b2, c)]))\n",
    "\n",
    "print(\"Max-Min Composition of R1 and R2:\", composition)"
   ]
  }
 ],
 "metadata": {
  "kernelspec": {
   "display_name": "Python 3 (ipykernel)",
   "language": "python",
   "name": "python3"
  },
  "language_info": {
   "codemirror_mode": {
    "name": "ipython",
    "version": 3
   },
   "file_extension": ".py",
   "mimetype": "text/x-python",
   "name": "python",
   "nbconvert_exporter": "python",
   "pygments_lexer": "ipython3",
   "version": "3.9.12"
  }
 },
 "nbformat": 4,
 "nbformat_minor": 5
}
