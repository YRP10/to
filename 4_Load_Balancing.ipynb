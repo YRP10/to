{
 "cells": [
  {
   "cell_type": "code",
   "execution_count": 1,
   "id": "03d6474a",
   "metadata": {},
   "outputs": [],
   "source": [
    "def create_server(name):\n",
    "    return {\"name\": name}\n",
    "\n",
    "def create_load_balancer(servers):\n",
    "    return {\"servers\": servers, \"current_index\": 0}\n",
    "\n",
    "def add_server(load_balancer, server):\n",
    "    load_balancer[\"servers\"].append(server)\n",
    "\n",
    "def get_next_server(load_balancer):\n",
    "    servers = load_balancer[\"servers\"]\n",
    "    index = load_balancer[\"current_index\"]\n",
    "    server = servers[index]\n",
    "    load_balancer[\"current_index\"] = (index + 1) % len(servers)\n",
    "    return server\n",
    "\n",
    "def prompt_server_info(index):\n",
    "    name = input(f\"Enter the name of server {index}: \")\n",
    "    return create_server(name)\n",
    "\n",
    "def assign_load(load_balancer, i):\n",
    "    server = get_next_server(load_balancer)\n",
    "    print(f\"Load {i} assigned to server: {server['name']}\")"
   ]
  },
  {
   "cell_type": "code",
   "execution_count": 2,
   "id": "8c03ff48",
   "metadata": {},
   "outputs": [
    {
     "name": "stdout",
     "output_type": "stream",
     "text": [
      "Enter the number of servers: 2\n",
      "Enter the name of server 1: A\n",
      "Enter the name of server 2: B\n",
      "Enter the number of loads: 4\n",
      "\n",
      "Load balancing result:\n",
      "Load 1 assigned to server: A\n",
      "Load 2 assigned to server: B\n",
      "Load 3 assigned to server: A\n",
      "Load 4 assigned to server: B\n"
     ]
    }
   ],
   "source": [
    "if __name__ == \"__main__\":\n",
    "    servers = []\n",
    "    num_servers = int(input(\"Enter the number of servers: \"))\n",
    "    for i in range(1, num_servers + 1):\n",
    "        servers.append(prompt_server_info(i))\n",
    "\n",
    "    lb = create_load_balancer(servers)\n",
    "\n",
    "    num_loads = int(input(\"Enter the number of loads: \"))\n",
    "\n",
    "    print(\"\\nLoad balancing result:\")\n",
    "    for i in range(1, num_loads + 1):\n",
    "        assign_load(lb, i)"
   ]
  },
  {
   "cell_type": "code",
   "execution_count": null,
   "id": "6906835a",
   "metadata": {},
   "outputs": [],
   "source": []
  }
 ],
 "metadata": {
  "kernelspec": {
   "display_name": "Python 3 (ipykernel)",
   "language": "python",
   "name": "python3"
  },
  "language_info": {
   "codemirror_mode": {
    "name": "ipython",
    "version": 3
   },
   "file_extension": ".py",
   "mimetype": "text/x-python",
   "name": "python",
   "nbconvert_exporter": "python",
   "pygments_lexer": "ipython3",
   "version": "3.9.12"
  }
 },
 "nbformat": 4,
 "nbformat_minor": 5
}
