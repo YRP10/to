{
 "cells": [
  {
   "cell_type": "code",
   "execution_count": 26,
   "id": "fa50833e",
   "metadata": {},
   "outputs": [],
   "source": [
    "# Importing Libraries\n",
    "import numpy as np\n",
    "from sklearn.model_selection import train_test_split\n",
    "from sklearn.neural_network import MLPRegressor\n",
    "from geneticalgorithm import geneticalgorithm as ga"
   ]
  },
  {
   "cell_type": "code",
   "execution_count": 27,
   "id": "68cbcab1",
   "metadata": {},
   "outputs": [],
   "source": [
    "# Fitness func\n",
    "def fitness_value(params):\n",
    "    hidden_layer = (int(params[0]),) * int(params[1])\n",
    "    activation=['identity','logistic','tanh','relu'][int(params[2])]\n",
    "    solver=['lbfgs','sgd','adam'][int(params[3])]\n",
    "    model = MLPRegressor(hidden_layer_sizes=hidden_layer,activation=activation,solver=solver)\n",
    "    model.fit(x_train,y_train)\n",
    "    fitness = -model.score(x_val,y_val)\n",
    "    return fitness"
   ]
  },
  {
   "cell_type": "code",
   "execution_count": 28,
   "id": "e0c3e4f7",
   "metadata": {},
   "outputs": [],
   "source": [
    "# Final nn \n",
    "def train_neural_network(params):\n",
    "    hidden_layer = (int(params[0]),) * int(params[1])\n",
    "    activation=['identity','logistic','tanh','relu'][int(params[2])]\n",
    "    solver=['lbfgs','sgd','adam'][int(params[3])]\n",
    "    model = MLPRegressor(hidden_layer_sizes=hidden_layer,activation=activation,solver=solver)\n",
    "    model.fit(x_train,y_train)\n",
    "    validation_error = -model.score(x_val,y_val)\n",
    "    return validation_error"
   ]
  },
  {
   "cell_type": "code",
   "execution_count": 31,
   "id": "7fd169f1",
   "metadata": {},
   "outputs": [],
   "source": [
    "# Synthetic DS\n",
    "np.random.seed(2)\n",
    "num_samples=1000\n",
    "num_features=5\n",
    "x = np.random.rand(num_samples,num_features)\n",
    "true_coefficient = np.random.rand(num_features)*10\n",
    "noise = np.random.normal(loc=0,scale=1,size=num_samples)\n",
    "y = np.dot(x,true_coefficient) + noise"
   ]
  },
  {
   "cell_type": "code",
   "execution_count": 32,
   "id": "e4a417e5",
   "metadata": {},
   "outputs": [],
   "source": [
    "x_train,x_val,y_train,y_val = train_test_split(x,y,test_size=0.2,random_state=3)"
   ]
  },
  {
   "cell_type": "code",
   "execution_count": 33,
   "id": "82bb830b",
   "metadata": {},
   "outputs": [
    {
     "name": "stdout",
     "output_type": "stream",
     "text": [
      " The best solution found:                                                                           \n",
      " [11.  5.  0.  1.]\n",
      "\n",
      " Objective function:\n",
      " -0.921575991300615\n"
     ]
    },
    {
     "data": {
      "image/png": "[encoded data removed]",
      "text/plain": [
       "<Figure size 432x288 with 1 Axes>"
      ]
     },
     "metadata": {
      "needs_background": "light"
     },
     "output_type": "display_data"
    }
   ],
   "source": [
    "# Config GA\n",
    "no_of_param =4\n",
    "varbound = np.array([[5,50],[1,5],[0,3],[0,2]])\n",
    "algorithm_param = {'max_num_iteration': 1, 'population_size': 100, 'mutation_probability': 0.1,\n",
    "                   'elit_ratio': 0.01, 'crossover_probability': 0.5, 'parents_portion': 0.3,\n",
    "                   'crossover_type': 'uniform', 'max_iteration_without_improv': None}\n",
    "model = ga(function=fitness_value,dimension=no_of_param,variable_type='int',variable_boundaries=varbound,algorithm_parameters=algorithm_param)\n",
    "\n",
    "# Run GA Model\n",
    "model.run()"
   ]
  },
  {
   "cell_type": "code",
   "execution_count": 34,
   "id": "b4a72288",
   "metadata": {},
   "outputs": [
    {
     "name": "stdout",
     "output_type": "stream",
     "text": [
      "best parameters found by GA :  [11.  5.  0.  1.]\n",
      "Valiation error of Neural Network  -0.9206817500901473\n"
     ]
    }
   ],
   "source": [
    "# Retrieve and save best params\n",
    "best_params=model.output_dict['variable']\n",
    "validation = train_neural_network(best_params)\n",
    "print(\"best parameters found by GA : \",best_params)\n",
    "print(\"Valiation error of Neural Network \",validation)"
   ]
  },
  {
   "cell_type": "code",
   "execution_count": null,
   "id": "9552b867",
   "metadata": {},
   "outputs": [],
   "source": []
  }
 ],
 "metadata": {
  "kernelspec": {
   "display_name": "Python 3 (ipykernel)",
   "language": "python",
   "name": "python3"
  },
  "language_info": {
   "codemirror_mode": {
    "name": "ipython",
    "version": 3
   },
   "file_extension": ".py",
   "mimetype": "text/x-python",
   "name": "python",
   "nbconvert_exporter": "python",
   "pygments_lexer": "ipython3",
   "version": "3.9.12"
  }
 },
 "nbformat": 4,
 "nbformat_minor": 5
}
